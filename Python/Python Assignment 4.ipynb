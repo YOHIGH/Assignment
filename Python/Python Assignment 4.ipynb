{
 "cells": [
  {
   "cell_type": "markdown",
   "metadata": {},
   "source": [
    "### 1.1 Write a Python Program(with class concepts) to find the area of         the triangle using the below formula.\n",
    "   #### area = (s*(s-a)*(s-b)*(s-c)) ** 0.5\n",
    "#### Function to take the length of the sides of triangle from user should be defined in the parent class and function to calculate the area should be defined in subclass."
   ]
  },
  {
   "cell_type": "code",
   "execution_count": 1,
   "metadata": {},
   "outputs": [
    {
     "name": "stdout",
     "output_type": "stream",
     "text": [
      "Enter length of first side=7\n",
      "Enter length of second side=5\n",
      "Enter length of third side=10\n",
      "Perimeter of triangle= 22.0\n",
      "Area of Triangle= 16.24807680927192\n"
     ]
    }
   ],
   "source": [
    "class Sides_triangle():\n",
    "    def __init__(self, a, b, c):\n",
    "        self.a = a\n",
    "        self.b = b\n",
    "        self.c = c\n",
    "        self.s = (self.a + self.b + self.c) / 2\n",
    "        print(\"Perimeter of triangle=\", (self.s * 2))\n",
    "\n",
    "\n",
    "class Area_Triangle(Sides_triangle):\n",
    "    def area(self):\n",
    "        area_tri = (self.s * (self.s - self.a) *\n",
    "                    (self.s - self.b) * (self.s - self.c))**0.5\n",
    "        print(\"Area of Triangle=\", area_tri)\n",
    "\n",
    "\n",
    "l1 = float(input(\"Enter length of first side=\"))\n",
    "l2 = float(input(\"Enter length of second side=\"))\n",
    "l3 = float(input(\"Enter length of third side=\"))\n",
    "t = Area_Triangle(l1, l2, l3)\n",
    "t.area()"
   ]
  },
  {
   "cell_type": "markdown",
   "metadata": {},
   "source": [
    "### 1.2 Write a function filter_long_words() that takes a list of words and an integer n and returns the list of words that are longer than n."
   ]
  },
  {
   "cell_type": "code",
   "execution_count": 3,
   "metadata": {},
   "outputs": [
    {
     "name": "stdout",
     "output_type": "stream",
     "text": [
      "Enter the list of words=>ability able about above accept according account across act action activity\n",
      "Enter the length you want=>5\n",
      "List of words= ['ability', 'accept', 'according', 'account', 'across', 'action', 'activity']\n"
     ]
    }
   ],
   "source": [
    "def filter_long_words(s, n):\n",
    "    words = []\n",
    "    for i in range(len(s)):\n",
    "        if len(s[i]) > n:\n",
    "            words.append(s[i])\n",
    "    print(\"List of words=\", words)\n",
    "\n",
    "\n",
    "string = input(\"Enter the list of words=>\").split()\n",
    "number = int(input(\"Enter the length you want=>\"))\n",
    "\n",
    "filter_long_words(string, number)"
   ]
  },
  {
   "cell_type": "markdown",
   "metadata": {},
   "source": [
    "### 2.1 Write a Python program using function concept that maps list of words into a list of integers representing the lengths of the corresponding words."
   ]
  },
  {
   "cell_type": "markdown",
   "metadata": {},
   "source": [
    "##### Hint: If a list [ ab,cde,erty] is passed on to the python function output should come as [2,3,4]\n",
    "##### Here 2,3 and 4 are the lengths of the words in the list.\n"
   ]
  },
  {
   "cell_type": "code",
   "execution_count": 4,
   "metadata": {},
   "outputs": [
    {
     "name": "stdout",
     "output_type": "stream",
     "text": [
      "Words list into int= [2, 3, 4]\n"
     ]
    }
   ],
   "source": [
    "words_list = ['ab', 'cde', 'erty']\n",
    "\n",
    "\n",
    "def words_int(w):\n",
    "    return list(map(lambda x: len(x), w))\n",
    "\n",
    "\n",
    "print(\"Words list into int=\", words_int(words_list))"
   ]
  },
  {
   "cell_type": "markdown",
   "metadata": {},
   "source": [
    "### 2.2 Write a Python function which takes a character (i.e. a string of length 1) and returns True if it is a vowel, False otherwise.\n"
   ]
  },
  {
   "cell_type": "code",
   "execution_count": 9,
   "metadata": {},
   "outputs": [
    {
     "name": "stdout",
     "output_type": "stream",
     "text": [
      "Enter character:k\n",
      "k is not a vowel\n"
     ]
    }
   ],
   "source": [
    "def vowel_check(c):\n",
    "    if (c == 'a' or c == 'e' or c == 'i' or c == 'o' or c == 'u'):\n",
    "        return True\n",
    "\n",
    "    else:\n",
    "        return False\n",
    "\n",
    "\n",
    "char = str(input(\"Enter character:\"))\n",
    "\n",
    "if vowel_check(char):\n",
    "    print(char, \"is a vowel\")\n",
    "else:\n",
    "    print(char, \"is not a vowel\")\n"
   ]
  }
 ],
 "metadata": {
  "kernelspec": {
   "display_name": "Python 3",
   "language": "python",
   "name": "python3"
  },
  "language_info": {
   "codemirror_mode": {
    "name": "ipython",
    "version": 3
   },
   "file_extension": ".py",
   "mimetype": "text/x-python",
   "name": "python",
   "nbconvert_exporter": "python",
   "pygments_lexer": "ipython3",
   "version": "3.7.1"
  }
 },
 "nbformat": 4,
 "nbformat_minor": 4
}
