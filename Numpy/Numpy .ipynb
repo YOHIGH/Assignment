{
 "cells": [
  {
   "cell_type": "markdown",
   "metadata": {},
   "source": [
    "#### Write a function so that the columns of the output matrix are powers of the input vector.\n",
    "#### The order of the powers is determined by the increasing boolean argument. Specifically, when increasing is False, the i-th output column is the input vector raised element-wise to the power of N - i - 1.\n",
    "#### HINT: Such a matrix with a geometric progression in each row is named for AlexandreTheophile Vandermonde."
   ]
  },
  {
   "cell_type": "code",
   "execution_count": 1,
   "metadata": {},
   "outputs": [],
   "source": [
    "import numpy as np"
   ]
  },
  {
   "cell_type": "code",
   "execution_count": 7,
   "metadata": {},
   "outputs": [
    {
     "data": {
      "text/plain": [
       "array([[  1,   1,   1,   1,   1],\n",
       "       [ 16,   8,   4,   2,   1],\n",
       "       [ 81,  27,   9,   3,   1],\n",
       "       [256,  64,  16,   4,   1],\n",
       "       [625, 125,  25,   5,   1]], dtype=int32)"
      ]
     },
     "execution_count": 7,
     "metadata": {},
     "output_type": "execute_result"
    }
   ],
   "source": [
    "x=np.array([1,2,3,4,5])\n",
    "n=len(x)\n",
    "np.column_stack([x**(n-1-i) for i in range(n)])\n"
   ]
  },
  {
   "cell_type": "code",
   "execution_count": 8,
   "metadata": {},
   "outputs": [
    {
     "data": {
      "text/plain": [
       "array([[  1,   1,   1,   1,   1],\n",
       "       [ 16,   8,   4,   2,   1],\n",
       "       [ 81,  27,   9,   3,   1],\n",
       "       [256,  64,  16,   4,   1],\n",
       "       [625, 125,  25,   5,   1]])"
      ]
     },
     "execution_count": 8,
     "metadata": {},
     "output_type": "execute_result"
    }
   ],
   "source": [
    "np.vander(x,n)"
   ]
  },
  {
   "cell_type": "markdown",
   "metadata": {},
   "source": [
    "**Problem Statement 2:**\n",
    "\n",
    "**Given a sequence of n values x1, x2, ..., xn and a window size k>0,\n",
    "the k-th moving average of the given sequence is defined as follows:**\n",
    "\n",
    "**The moving average sequence has n-k+1 elements as shown below.\n",
    "The moving averages with k=4 of a ten-value sequence (n=10) is shown below**\n",
    "\n",
    "i 1 2 3 4 5 6 7 8 9 10<br>\n",
    "===== == == == == == == == == == ==<br>\n",
    "Input 10 20 30 40 50 60 70 80 90 100<br>\n",
    "y1 25 = (10+20+30+40)/4<br>\n",
    "y2 35 = (20+30+40+50)/4<br>\n",
    "y3 45 = (30+40+50+60)/4<br>\n",
    "y4 55 = (40+50+60+70)/4<br>\n",
    "y5 65 = (50+60+70+80)/4<br>\n",
    "y6 75 = (60+70+80+90)/4<br>\n",
    "y7 85 = (70+80+90+100)/4<br>\n",
    "\n",
    "**Thus, the moving average sequence has n-k+1=10-4+1=7 values.**\n",
    "\n",
    "**Question: Write a function to find moving average in an array over a window: Test it over [3, 5, 7, 2, 8, 10, 11, 65, 72, 81, 99, 100, 150] and window of 3**\n",
    "\n"
   ]
  },
  {
   "cell_type": "code",
   "execution_count": 19,
   "metadata": {},
   "outputs": [
    {
     "data": {
      "text/plain": [
       "array([  5.   ,   4.667,   5.667,   6.667,   9.667,  28.667,  49.333,\n",
       "        72.667,  84.   ,  93.333, 116.333])"
      ]
     },
     "execution_count": 19,
     "metadata": {},
     "output_type": "execute_result"
    }
   ],
   "source": [
    "def moving_average(x, w):\n",
    "    xcsum=np.cumsum(x)\n",
    "    xcsum[w:]=xcsum[w:] - xcsum[:-w]\n",
    "    return xcsum[w-1:]/w\n",
    "a=[3, 5, 7, 2, 8, 10, 11, 65, 72, 81, 99, 100, 150]\n",
    "a_array=np.array(a)\n",
    "np.array(moving_average(a_array,3)).round(3)"
   ]
  }
 ],
 "metadata": {
  "kernelspec": {
   "display_name": "Python 3",
   "language": "python",
   "name": "python3"
  },
  "language_info": {
   "codemirror_mode": {
    "name": "ipython",
    "version": 3
   },
   "file_extension": ".py",
   "mimetype": "text/x-python",
   "name": "python",
   "nbconvert_exporter": "python",
   "pygments_lexer": "ipython3",
   "version": "3.7.1"
  }
 },
 "nbformat": 4,
 "nbformat_minor": 4
}
